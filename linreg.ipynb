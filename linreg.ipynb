{
 "cells": [
  {
   "cell_type": "code",
   "execution_count": 25,
   "metadata": {},
   "outputs": [
    {
     "data": {
      "text/latex": [
       "\n",
       "\n",
       "\n",
       "\\begin{align*}\n",
       "\\text{Линейная регрессия, приближающая некоторую зависимость:}\\\\\n",
       "\\\\\n",
       "\\hat{y_i} = \\beta_0 + \\beta_1 x_{1,i} + \\beta_2 x_{2,i} + ... + \\beta_n x_{n,i}   (1)\\\\\n",
       "\\\\\n",
       "\\text{Простейший вариант:} \\\\\\\\\n",
       "\\hat{y_i} = \\beta_0 + \\beta_1 x_{i}\\\\\\\\\n",
       "\\text{Математически коэффициенты } \\beta_0, \\beta_1, \\beta_2 ... \\beta_n \\text{ могут быть оценены с помощью формулы:} \\\\\n",
       "\\\\\n",
       "\\hat{\\beta} = (X^{T}X)^{-1} X^{T}Y \\\\\\\\\n",
       "\\text{Где X - матрица признаков, Y - известная зависимая величина, которую мы хотим приблизить с помощью модели.}\\\\\n",
       "\\text{Чтобы вычислить коэффициенты модели, необходимо ввести функцию ошибки, которую необходимо минимизировать}\\\\\n",
       "\\text{Обозначим ei как ошибку модели на точке с номером i, таким образом:}\\\\\\\\\n",
       "e_i = y_i - \\hat{y_i}\\\\\\\\\n",
       "\\text{Где y^  моделируемый результат, y известный результат:}\\\\\n",
       "\\text{Объявим функцию ошибки:}\\\\\\\\\n",
       "\\sum_{i=1}^n e_i^2 = \\sum_{i=1}^n (y_i - \\hat{y_i})^2\\\\\\\\\n",
       "\\text{Модель регрессии (1) мы можем перезаписать в матричной форме}\\\\\\\\\n",
       "\\hat{Y} = X\\beta \\\\\\\\\n",
       "\\text{Мы знаем, что:}\\\\\\\\\n",
       "\\sum_{i=1}^n e_i^2 = E^{T}E \\\\\\\\\n",
       "\\text{Мы хотим минимизировать общую квадратичную ошибку, }\\\\\n",
       "\\text{так, чтобы значение приведенного выражения, было маленьким, насколько это возможно}\\\\\\\\\n",
       "E^{T}E = (Y-\\hat{Y})^{T} (Y-\\hat{Y}) \\\\\\\\\n",
       "\\text{Это выражение эквивалентно следующему: }\\\\\\\\\n",
       "E^{T}E = (Y-X\\beta)^{T} (Y-X\\beta) \\\\\\\\\n",
       "\\text{Мы хотим найти значения β, при которых значения данного выражения минимально}\\\\\n",
       "\\text{Для этого продиффиренцируем его по β и приравняем 0. Используем \"chain rule\"}\\\\\n",
       "\\text{}\\\\\n",
       "\\frac{dE^{T}E}{d\\beta} = - 2 X^{T}Y + 2 X^{T}X\\beta = 0\\\\\\\\\n",
       "\\text{Упрощаем:}\\\\\\\\\n",
       "X^{T}X\\beta = X^{T}Y\\\\\\\\\n",
       "\\text{В итоге, коэффициенты можно найти по формуле:}\\\\\\\\\n",
       "\\beta = (X^{T}X)^{-1} X^{T}Y\n",
       "\\\\\\\\\n",
       "\\text{Мы нашли требуемое решение, однако, с точки зрения производительности, проблемой является}\\\\\n",
       "\\text{вычисление обратной матрицы, которое сложно произвести, если датасет большой.}\\\\\n",
       "\\text{В этой ситуации оптимальным является к примеру стохастический градиентный спуск.}\\\\\\\\\n",
       "\\text{Дополнение: нахождение обратной матрицы:}\\\\\n",
       "A^{-1}=\\frac{1}{|A|}A_+^{T}\\\\\\\\\n",
       "\\text{Где } |A| \\text{ - определитель матрицы } A \\text{, } A_+^{T} \\text{ - транспонированная матрица алгебраических дополнений}\n",
       "\\end{align*}\n"
      ],
      "text/plain": [
       "<IPython.core.display.Latex object>"
      ]
     },
     "metadata": {},
     "output_type": "display_data"
    }
   ],
   "source": [
    "%%latex\n",
    "\n",
    "\\begin{aligned}\n",
    "\\text{Линейная регрессия, приближающая некоторую зависимость:}\\\\\n",
    "\\\\\n",
    "\\hat{y_i} = \\beta_0 + \\beta_1 x_{1,i} + \\beta_2 x_{2,i} + ... + \\beta_n x_{n,i}   (1)\\\\\n",
    "\\\\\n",
    "\\text{Простейший вариант:} \\\\\\\\\n",
    "\\hat{y_i} = \\beta_0 + \\beta_1 x_{i}\\\\\\\\\n",
    "\\text{Математически коэффициенты } \\beta_0, \\beta_1, \\beta_2 ... \\beta_n \\text{ могут быть оценены с помощью формулы:} \\\\\n",
    "\\\\\n",
    "\\hat{\\beta} = (X^{T}X)^{-1} X^{T}Y \\\\\\\\\n",
    "\\text{Где X - матрица признаков, Y - известная зависимая величина, которую мы хотим приблизить с помощью модели.}\\\\\n",
    "\\text{Чтобы вычислить коэффициенты модели, необходимо ввести функцию ошибки, которую необходимо минимизировать}\\\\\n",
    "\\text{Обозначим ei как ошибку модели на точке с номером i, таким образом:}\\\\\\\\\n",
    "e_i = y_i - \\hat{y_i}\\\\\\\\\n",
    "\\text{Где y^  моделируемый результат, y известный результат:}\\\\\n",
    "\\text{Объявим функцию ошибки:}\\\\\\\\\n",
    "\\sum_{i=1}^n e_i^2 = \\sum_{i=1}^n (y_i - \\hat{y_i})^2\\\\\\\\\n",
    "\\text{Модель регрессии (1) мы можем перезаписать в матричной форме}\\\\\\\\\n",
    "\\hat{Y} = X\\beta \\\\\\\\\n",
    "\\text{Мы знаем, что:}\\\\\\\\\n",
    "\\sum_{i=1}^n e_i^2 = E^{T}E \\\\\\\\\n",
    "\\text{Мы хотим минимизировать общую квадратичную ошибку, }\\\\\n",
    "\\text{так, чтобы значение приведенного выражения, было маленьким, насколько это возможно}\\\\\\\\\n",
    "E^{T}E = (Y-\\hat{Y})^{T} (Y-\\hat{Y}) \\\\\\\\\n",
    "\\text{Это выражение эквивалентно следующему: }\\\\\\\\\n",
    "E^{T}E = (Y-X\\beta)^{T} (Y-X\\beta) \\\\\\\\\n",
    "\\text{Мы хотим найти значения β, при которых значения данного выражения минимально}\\\\\n",
    "\\text{Для этого продиффиренцируем его по β и приравняем 0. Используем \"chain rule\"}\\\\\n",
    "\\text{}\\\\\n",
    "\\frac{dE^{T}E}{d\\beta} = - 2 X^{T}Y + 2 X^{T}X\\beta = 0\\\\\\\\\n",
    "\\text{Упрощаем:}\\\\\\\\\n",
    "X^{T}X\\beta = X^{T}Y\\\\\\\\\n",
    "\\text{В итоге, коэффициенты можно найти по формуле:}\\\\\\\\\n",
    "\\beta = (X^{T}X)^{-1} X^{T}Y\n",
    "\\\\\\\\\n",
    "\\text{Мы нашли требуемое решение, однако, с точки зрения производительности, проблемой является}\\\\\n",
    "\\text{вычисление обратной матрицы, которое сложно произвести, если датасет большой.}\\\\\n",
    "\\text{В этой ситуации оптимальным является к примеру стохастический градиентный спуск.}\\\\\\\\\n",
    "\\text{Дополнение: нахождение обратной матрицы:}\\\\\n",
    "A^{-1}=\\frac{1}{|A|}A_+^{T}\\\\\\\\\n",
    "\\text{Где } |A| \\text{ - определитель матрицы } A \\text{, } A_+^{T} \\text{ - транспонированная матрица алгебраических дополнений}\n",
    "\\end{aligned}\n"
   ]
  },
  {
   "cell_type": "markdown",
   "metadata": {},
   "source": [
    "This expression   \n",
    "  \n",
    "$\\sqrt{3x-1}+(1+x)^2$  \n",
    "  \n",
    "is an example of a TeX inline equation in a [Markdown-formatted](https://daringfireball.net/projects/markdown/) sentence."
   ]
  },
  {
   "cell_type": "markdown",
   "metadata": {},
   "source": [
    "Линейная регрессия, приближающая некоторую зависимость:  \n",
    "<p style=\"text-align: center;\">$\\hat{y_i} = \\beta_0 + \\beta_1 x_{1,i} + \\beta_2 x_{2,i} + ... + \\beta_n x_{n,i}$ (1)</p>\n",
    "Простейший вариант:  \n",
    "\n",
    "<p style=\"text-align: center;\">$\\hat{y_i} = \\beta_0 + \\beta_1 x_{i}$</p>    \n",
    "\n",
    "Математически коэффициенты $\\beta_0, \\beta_1, \\beta_2 ... \\beta_n$  могут быть оценены с помощью формулы:    \n",
    "\n",
    "<p style=\"text-align: center;\">$\\hat{\\beta} = (X^{T}X)^{-1} X^{T}Y$</p>  \n",
    "\n",
    "Где $X$ - матрица признаков, $Y$ - известная зависимая величина, которую мы хотим приблизить с помощью модели. Чтобы вычислить коэффициенты модели, необходимо ввести функцию ошибки, которую необходимо минимизировать.  \n",
    "Обозначим $e_i$ как ошибку модели на точке с номером $i$, таким образом:    \n",
    "<p style=\"text-align: center;\">$e_i = y_i - \\hat{y_i}$</p> \n",
    "\n",
    "Где $\\hat{y_i}$ - моделируемый результат, $y_i$ - известный результат.    \n",
    "Объявим функцию ошибки:    \n",
    "<p style=\"text-align: center;\">$\\sum_{i=1}^n e_i^2 = \\sum_{i=1}^n (y_i - \\hat{y_i})^2$</p>\n",
    "\n",
    "Модель регрессии (1) мы можем перезаписать в матричной форме:  \n",
    "<p style=\"text-align: center;\">$\\hat{Y} = X\\beta$</p>   \n",
    "\n",
    "Мы знаем, что:  \n",
    "<p style=\"text-align: center;\">$\\sum_{i=1}^n e_i^2 = E^{T}E$</p>  \n",
    "\n",
    "Мы хотим минимизировать общую квадратичную ошибку, так, чтобы значение приведенного выражения, было маленьким, насколько это возможно.    \n",
    "<p style=\"text-align: center;\">$E^{T}E = (Y-\\hat{Y})^{T} (Y-\\hat{Y})$</p>    \n",
    "Это выражение эквивалентно следующему:    \n",
    "<p style=\"text-align: center;\">$E^{T}E = (Y-X\\beta)^{T} (Y-X\\beta)$</p>    \n",
    "\n",
    "Мы хотим найти значения $\\beta$, при которых значения данного выражения минимально. Для этого продиффиренцируем его по $\\beta$ и приравняем $0$. Используем правило дифференцирования сложной функции.    \n",
    "<p style=\"text-align: center;\">$\\frac{dE^{T}E}{d\\beta} = - 2 X^{T}Y + 2 X^{T}X\\beta = 0$</p>  \n",
    "  \n",
    "Упрощаем:    \n",
    "\n",
    "<p style=\"text-align: center;\">$X^{T}X\\beta = X^{T}Y$</p>  \n",
    "\n",
    "В итоге, коэффициенты можно найти по формуле:    \n",
    "\n",
    "<p style=\"text-align: center;\">$\\beta = (X^{T}X)^{-1} X^{T}Y$</p>  \n",
    "\n",
    "Мы нашли требуемое решение, однако, с точки зрения производительности, проблемой является вычисление обратной матрицы, которое сложно произвести, если датасет большой. В этой ситуации оптимальным является к примеру стохастический градиентный спуск.  \n",
    "Дополнение: нахождение обратной матрицы:   \n",
    "<p style=\"text-align: center;\">$A^{-1}=\\frac{1}{|A|}A_+^{T}$</p>  \n",
    "\n",
    "Где $|A|$ - определитель матрицы $A$, $A_+^{T}$ - транспонированная матрица алгебраических дополнений."
   ]
  },
  {
   "cell_type": "code",
   "execution_count": 21,
   "metadata": {},
   "outputs": [],
   "source": [
    "import numpy as np\n",
    "\n",
    "# Сгенерируем точки с шумом\n",
    "X = 2 * np.random.rand(100, 1)\n",
    "y = 4 + 3 * X + np.random.randn(100, 1)"
   ]
  },
  {
   "cell_type": "code",
   "execution_count": 5,
   "metadata": {},
   "outputs": [
    {
     "data": {
      "image/png": "[encoded data removed]",
      "text/plain": [
       "<Figure size 432x288 with 1 Axes>"
      ]
     },
     "metadata": {
      "needs_background": "light"
     },
     "output_type": "display_data"
    }
   ],
   "source": [
    "%matplotlib inline\n",
    "\n",
    "import matplotlib\n",
    "import matplotlib.pyplot as plt\n",
    "\n",
    "plt.scatter(X, y)\n",
    "plt.show()"
   ]
  },
  {
   "cell_type": "code",
   "execution_count": 12,
   "metadata": {},
   "outputs": [],
   "source": [
    "# Найдём коэффициенты линейной регрессии, с помощью аналитического решения, приведённого выше\n",
    "\n",
    "# Функция np.c_ соединяет два массива как две колонки\n",
    "# Добавляем x0 = 1 для каждого примера. (Данная колонка будет отвечать за коэффициент 𝛽0)\n",
    "X_b = np.c_[np.ones((100, 1)), X]\n",
    "\n",
    "beta_best = np.linalg.inv(X_b.T.dot(X_b)).dot(X_b.T).dot(y)"
   ]
  },
  {
   "cell_type": "code",
   "execution_count": 13,
   "metadata": {},
   "outputs": [
    {
     "data": {
      "text/plain": [
       "array([[4.10643732],\n",
       "       [2.92072422]])"
      ]
     },
     "execution_count": 13,
     "metadata": {},
     "output_type": "execute_result"
    }
   ],
   "source": [
    "beta_best"
   ]
  },
  {
   "cell_type": "code",
   "execution_count": 17,
   "metadata": {},
   "outputs": [
    {
     "data": {
      "image/png": "[encoded data removed]",
      "text/plain": [
       "<Figure size 432x288 with 1 Axes>"
      ]
     },
     "metadata": {
      "needs_background": "light"
     },
     "output_type": "display_data"
    }
   ],
   "source": [
    "# Построим график восстановленной линейной регрессии\n",
    "\n",
    "plt.scatter(X, y)\n",
    "\n",
    "x = np.linspace(0.,2.)\n",
    "plt.plot(x, beta_best[0] + x * beta_best[1], color='r')\n",
    "\n",
    "plt.show()"
   ]
  },
  {
   "cell_type": "code",
   "execution_count": 19,
   "metadata": {},
   "outputs": [
    {
     "name": "stdout",
     "output_type": "stream",
     "text": [
      "[4.10643732] [[2.92072422]]\n"
     ]
    }
   ],
   "source": [
    "# Обучение регрессии, с помощью библиотеки sklearn\n",
    "from sklearn.linear_model import LinearRegression\n",
    "\n",
    "X_new = np.array([[0], [2]])\n",
    "\n",
    "lin_reg = LinearRegression()\n",
    "lin_reg.fit(X, y)\n",
    "print(lin_reg.intercept_, lin_reg.coef_)\n",
    "\n",
    "y_pred = lin_reg.predict(X_new)\n",
    "#print(y_pred)"
   ]
  },
  {
   "cell_type": "markdown",
   "metadata": {},
   "source": [
    "### Ссылки\n",
    "\n",
    "1. Оригинал аналитического решения:\n",
    "https://stats.stackexchange.com/a/46171\n",
    "\n",
    "2. Aurélien Géron. Hands-On Machine Learning with Scikit-Learn and TensorFlow, C. 150"
   ]
  }
 ],
 "metadata": {
  "kernelspec": {
   "display_name": "Python 3",
   "language": "python",
   "name": "python3"
  },
  "language_info": {
   "codemirror_mode": {
    "name": "ipython",
    "version": 3
   },
   "file_extension": ".py",
   "mimetype": "text/x-python",
   "name": "python",
   "nbconvert_exporter": "python",
   "pygments_lexer": "ipython3",
   "version": "3.7.4"
  }
 },
 "nbformat": 4,
 "nbformat_minor": 2
}
