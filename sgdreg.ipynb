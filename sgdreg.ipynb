{
 "cells": [
  {
   "cell_type": "markdown",
   "metadata": {},
   "source": [
    "# Линейная регрессия"
   ]
  },
  {
   "cell_type": "code",
   "execution_count": 26,
   "metadata": {},
   "outputs": [],
   "source": [
    "import numpy as np\n",
    "X = 2 * np.random.rand(100, 1)\n",
    "y = 4 + 3 * X + np.random.randn(100, 1)"
   ]
  },
  {
   "cell_type": "code",
   "execution_count": 19,
   "metadata": {},
   "outputs": [
    {
     "data": {
      "image/png": "[encoded data removed]",
      "text/plain": [
       "<Figure size 432x288 with 1 Axes>"
      ]
     },
     "metadata": {
      "needs_background": "light"
     },
     "output_type": "display_data"
    }
   ],
   "source": [
    "%matplotlib inline\n",
    "\n",
    "import matplotlib\n",
    "import matplotlib.pyplot as plt\n",
    "\n",
    "plt.scatter(X, y)\n",
    "plt.show()"
   ]
  },
  {
   "cell_type": "markdown",
   "metadata": {},
   "source": [
    "# Пакетный и стохастический градиентный спуск\n",
    "\n",
    "\n",
    "Линейная регрессия, приближающая некоторую зависимость:  \n",
    "<p style=\"text-align: center;\">$\\hat{y_i} = \\beta_0 + \\beta_1 x_{1,i} + \\beta_2 x_{2,i} + ... + \\beta_n x_{n,i}$ (1)</p>\n",
    "Простейший вариант:  \n",
    "\n",
    "<p style=\"text-align: center;\">$\\hat{y_i} = \\beta_0 + \\beta_1 x_{i}$</p>   \n",
    "\n",
    "\n",
    "**Задача: подобрать коэффициенты $\\beta$ таким образом, чтобы наиболее точно апроксимировать (приблизить) моделируемую зависимость.**\n",
    "Для реализации градиентного спуска необходимо итеративно вычислять градиент функции ошибки относительно параметров $\\beta$. Другими словами, мы вычисляем как сильно изменится функция ошибки, если мы немного изменим каждый из коэффициентов $\\beta$. Это называется частными производными. Данное действие похоже на то, если бы мы спросили себя насколько сильно я спущусь с горы, если немного пройду на восток? А если на юг? А теперь представим, что у нас множество таких измерений [1]. \n",
    "\n",
    "Чтобы вычислить коэффициенты модели, необходимо ввести функцию ошибки, которую необходимо минимизировать.  \n",
    "Обозначим $e_i$ как ошибку модели на точке с номером $i$, таким образом:    \n",
    "<p style=\"text-align: center;\">$e_i = y_i - \\hat{y_i}$</p> \n",
    "\n",
    "Где $\\hat{y_i}$ - моделируемый результат, $y_i$ - известный результат.    \n",
    "Объявим функцию ошибки:    \n",
    "\n",
    "<p style=\"text-align: center;\">$Loss(\\beta)= \\sum_{i=1}^m e_i^2 = \\sum_{i=1}^m (y_i - \\hat{y_i})^2 = \\sum_{i=1}^m (y_i - X\\beta)^2 $</p>\n",
    "\n",
    "Градиент функции ошибки (вектор частных производных):  \n",
    "\n",
    "<p style=\"text-align: center;\">$\\frac{\\partial}{\\partial\\beta_{j}}Loss(\\beta)=\\frac{2}{m}\\sum_{i=1}^m(y^{(i)}-x^{(i)}\\beta)(-x_{j}^{(i)})$</p>\n",
    "\n",
    "Перепишем в матричной форме:\n",
    "<p style=\"text-align: center;\">$\\frac{\\partial}{\\partial\\beta}Loss(\\beta)=\\frac{2}{m}(-X)^{T}(Y-X\\beta)$</p>\n",
    "\n",
    "После того как в рамках каждой итерации мы вычислили градиент, который показывает направление роста функции, нам необходимо двигаться в направлении антиградиента, для того чтобы стремиться к минимуму функции ошибок:\n",
    "\n",
    "<p style=\"text-align: center;\">$\\beta^{next}=\\beta-\\eta\\nabla_{\\beta}Loss(\\beta)$</p>\n",
    "\n",
    "Где $\\eta$ - показатель обучения (learning rate)\n",
    "\n",
    "\n",
    "\n",
    "\n",
    "\n",
    "\n",
    "\n",
    "\n",
    "\n",
    "\n",
    "\n",
    "\n",
    " "
   ]
  },
  {
   "cell_type": "code",
   "execution_count": 89,
   "metadata": {},
   "outputs": [],
   "source": [
    "# Реализация в коде\n",
    "from sklearn.base import BaseEstimator\n",
    "import numpy as np\n",
    "\n",
    "class BatchGradientRegressor(BaseEstimator):\n",
    "    ''' Пакетный градиентный спуск\n",
    "    '''\n",
    "    def __init__(self, learning_rate = 0.01, epochs = 10, verbose = False): \n",
    "        self.learning_rate = learning_rate\n",
    "        self.epochs = epochs\n",
    "        self.verbose = verbose\n",
    "        self.epsilon = 0.01\n",
    "    \n",
    "    def __calc_loss(self, X, y, beta):\n",
    "        lp = y - X.dot(beta)\n",
    "        return lp.T.dot(lp)\n",
    "        \n",
    "    def fit(self, X, y):\n",
    "        m = X.shape[0]\n",
    "        n = X.shape[1]\n",
    "       \n",
    "        beta = np.ones((n, 1)) # Инициализируем веса\n",
    "        for ep in range(0, self.epochs):\n",
    "            gradient = (2 / m) * (np.negative(X).T.dot(y - X.dot(beta)))\n",
    "            beta = beta - self.learning_rate * gradient\n",
    "            \n",
    "            # Оцениваем качество\n",
    "            loss = self.__calc_loss(X, y, beta)\n",
    "            \n",
    "            if (self.verbose):\n",
    "                print(\"Loss:\", loss)\n",
    "        \n",
    "        self.coeffs_ = beta\n",
    "\n",
    "    def predict(self, X):\n",
    "        X_b = np.c_[np.ones((X.shape[0], 1)), X]\n",
    "        return X_b.dot(self.coeffs_)"
   ]
  },
  {
   "cell_type": "markdown",
   "metadata": {},
   "source": [
    "При разработке моделей машинного обучения принято соблюдать соглашение, описывающее структуру класса и его методы.  \n",
    "Подробнее можно почитать в [3,4]"
   ]
  },
  {
   "cell_type": "code",
   "execution_count": 17,
   "metadata": {},
   "outputs": [],
   "source": [
    "# Сгенерируем точки с шумом\n",
    "X = 4 * np.random.rand(100, 1)\n",
    "y = 7 + 5 * X + np.random.randn(100, 1)"
   ]
  },
  {
   "cell_type": "code",
   "execution_count": 20,
   "metadata": {},
   "outputs": [
    {
     "data": {
      "image/png": "[encoded data removed]",
      "text/plain": [
       "<Figure size 432x288 with 1 Axes>"
      ]
     },
     "metadata": {
      "needs_background": "light"
     },
     "output_type": "display_data"
    }
   ],
   "source": [
    "plt.scatter(X, y)\n",
    "plt.show()"
   ]
  },
  {
   "cell_type": "markdown",
   "metadata": {},
   "source": [
    "Коэффициенты линейной регрессии можно вычислить аналитически по формуле:\n",
    "<p style=\"text-align: center;\">$\\hat{\\beta} = (X^{T}X)^{-1} X^{T}Y$</p>  \n",
    "Выполним это вычисление, будем считать его эталонным и сравнивать с ним градиентные методы."
   ]
  },
  {
   "cell_type": "code",
   "execution_count": 21,
   "metadata": {},
   "outputs": [],
   "source": [
    "# Найдём коэффициенты линейной регрессии, с помощью аналитического решения, приведённого выше\n",
    "\n",
    "# Функция np.c_ соединяет два массива как две колонки\n",
    "# Добавляем x0 = 1 для каждого примера. (Данная колонка будет отвечать за коэффициент 𝛽0)\n",
    "X_b = np.c_[np.ones((100, 1)), X]\n",
    "beta_best = np.linalg.inv(X_b.T.dot(X_b)).dot(X_b.T).dot(y)"
   ]
  },
  {
   "cell_type": "code",
   "execution_count": 22,
   "metadata": {},
   "outputs": [
    {
     "data": {
      "text/plain": [
       "array([[6.64758719],\n",
       "       [5.10792872]])"
      ]
     },
     "execution_count": 22,
     "metadata": {},
     "output_type": "execute_result"
    }
   ],
   "source": [
    "beta_best"
   ]
  },
  {
   "cell_type": "code",
   "execution_count": 92,
   "metadata": {},
   "outputs": [],
   "source": [
    "batch_regressor = BatchGradientRegressor(learning_rate=0.1, epochs=100)\n",
    "batch_regressor.fit(X_b, y)"
   ]
  },
  {
   "cell_type": "code",
   "execution_count": 93,
   "metadata": {},
   "outputs": [
    {
     "data": {
      "text/plain": [
       "array([[6.61493002],\n",
       "       [5.12027281]])"
      ]
     },
     "execution_count": 93,
     "metadata": {},
     "output_type": "execute_result"
    }
   ],
   "source": [
    "batch_regressor.coeffs_"
   ]
  },
  {
   "cell_type": "code",
   "execution_count": 86,
   "metadata": {},
   "outputs": [
    {
     "data": {
      "image/png": "[encoded data removed]",
      "text/plain": [
       "<Figure size 432x288 with 1 Axes>"
      ]
     },
     "metadata": {
      "needs_background": "light"
     },
     "output_type": "display_data"
    }
   ],
   "source": [
    "# Построим график восстановленной линейной регрессии\n",
    "plt.scatter(X, y)\n",
    "\n",
    "x = np.linspace(0.,4.)\n",
    "plt.plot(x, batch_regressor.coeffs_[0] + x * batch_regressor.coeffs_[1], color='r')\n",
    "\n",
    "plt.show()"
   ]
  },
  {
   "cell_type": "code",
   "execution_count": 95,
   "metadata": {},
   "outputs": [
    {
     "data": {
      "text/plain": [
       "array([[16.85547565],\n",
       "       [21.97574847],\n",
       "       [27.09602128]])"
      ]
     },
     "execution_count": 95,
     "metadata": {},
     "output_type": "execute_result"
    }
   ],
   "source": [
    "# Вычислим предсказания\n",
    "X_test = np.array([2, 3, 4]).T\n",
    "y_pred = batch_regressor.predict(X_test)\n",
    "\n",
    "y_pred"
   ]
  },
  {
   "cell_type": "code",
   "execution_count": 46,
   "metadata": {},
   "outputs": [
    {
     "name": "stdout",
     "output_type": "stream",
     "text": [
      "[6.88328114] [[5.01023548]]\n"
     ]
    }
   ],
   "source": [
    "# Обучение регрессии, с помощью библиотеки sklearn\n",
    "'''from sklearn.linear_model import LinearRegression\n",
    "\n",
    "X_new = np.array([[0], [2]])\n",
    "\n",
    "lin_reg = LinearRegression()\n",
    "lin_reg.fit(X, y)\n",
    "print(lin_reg.intercept_, lin_reg.coef_)\n",
    "\n",
    "y_pred = lin_reg.predict(X_new)\n",
    "#print(y_pred)\n",
    "'''"
   ]
  },
  {
   "cell_type": "markdown",
   "metadata": {},
   "source": [
    "### Ссылки\n",
    "\n",
    "1. Оригинал аналитического решения:\n",
    "https://stats.stackexchange.com/a/46171\n",
    "\n",
    "2. Aurélien Géron. Hands-On Machine Learning with Scikit-Learn and TensorFlow, C. 150\n",
    "\n",
    "3. https://arxiv.org/pdf/1309.0238v1.pdf\n",
    "4. https://scikit-learn.org/dev/developers/develop.html"
   ]
  },
  {
   "cell_type": "code",
   "execution_count": null,
   "metadata": {},
   "outputs": [],
   "source": []
  }
 ],
 "metadata": {
  "kernelspec": {
   "display_name": "Python 3",
   "language": "python",
   "name": "python3"
  },
  "language_info": {
   "codemirror_mode": {
    "name": "ipython",
    "version": 3
   },
   "file_extension": ".py",
   "mimetype": "text/x-python",
   "name": "python",
   "nbconvert_exporter": "python",
   "pygments_lexer": "ipython3",
   "version": "3.7.4"
  }
 },
 "nbformat": 4,
 "nbformat_minor": 2
}
